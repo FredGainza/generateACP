{
 "cells": [
  {
   "cell_type": "markdown",
   "id": "322fed6e",
   "metadata": {
    "toc": true
   },
   "source": [
    "<h1>Table des matières<span class=\"tocSkip\"></span></h1>\n",
    "<div class=\"toc\"><ul class=\"toc-item\"></ul></div>"
   ]
  },
  {
   "cell_type": "code",
   "execution_count": 2,
   "id": "5ec6f546",
   "metadata": {},
   "outputs": [],
   "source": [
    "import pandas as pd\n",
    "from generateACP import acp_global\n",
    "from IPython.display import display"
   ]
  },
  {
   "cell_type": "code",
   "execution_count": null,
   "id": "511c54cf",
   "metadata": {},
   "outputs": [],
   "source": [
    "### import des data de l'exemple\n",
    "\n",
    "url = \"https://kopadata.fr/data/burger.xlsx\"\n",
    "data = pd.read_excel(url, engine='openpyxl')\n",
    "data"
   ]
  },
  {
   "cell_type": "code",
   "execution_count": null,
   "id": "036c91a6",
   "metadata": {},
   "outputs": [],
   "source": [
    "### La variable d'observation est la variable \"ITEM\"\n",
    "### On met donc cette variable en index\n",
    "\n",
    "data = data.set_index(\"ITEM\")\n",
    "data"
   ]
  },
  {
   "cell_type": "code",
   "execution_count": null,
   "id": "59fb2f1e",
   "metadata": {},
   "outputs": [],
   "source": [
    "### On va considérer que pour cet exemple :\n",
    "###   - la variable \"Serving_size\" comme une variable quantitative illustrative\n",
    "###   - la variable \"Meat\" comme une variable qualitative illustrative"
   ]
  },
  {
   "cell_type": "code",
   "execution_count": null,
   "id": "d721468e",
   "metadata": {},
   "outputs": [],
   "source": [
    "### df variable quantitative illustrative\n",
    "df_quant_illus = data[[\"Serving_size\"]]\n",
    "\n",
    "### df variable qualitative illustrative\n",
    "df_qual_illus = data[[\"Meat\"]]\n",
    "\n",
    "### df variables explicatives\n",
    "df = data.drop(columns=[\"Serving_size\", \"Meat\"])"
   ]
  },
  {
   "cell_type": "code",
   "execution_count": null,
   "id": "58bb98a7",
   "metadata": {},
   "outputs": [],
   "source": [
    "### Exécution de la fonction acp_global() \n",
    "### Rq: on initialise la fonction à 2 dimensions (soit 4 facteurs), et on spécifie les df des variables illustratives\n",
    "\n",
    "resultat_acp=acp_global(df=df, axis_ranks=[(0, 1), (2,3)], varSupp=df_quant_illus, varSuppQual=df_qual_illus)"
   ]
  },
  {
   "cell_type": "code",
   "execution_count": null,
   "id": "0ec05212",
   "metadata": {},
   "outputs": [],
   "source": [
    "### Affichage des data d'un individu en particulier\n",
    "### Exemple: individu \"Buck_Double\"\n",
    "indi = \"Buck_Double\"\n",
    "\n",
    "### df des données initiales\n",
    "print(f\"Données initiales {indi}\")\n",
    "print()\n",
    "display(resultat_acp[\"select_obs\"][indi][0])\n",
    "print('---------------------------------------')\n",
    "print()\n",
    "### df des données calculées\n",
    "print(f\"Données calculées {indi}\")\n",
    "print()\n",
    "display(resultat_acp[\"select_obs\"][indi][1])"
   ]
  },
  {
   "cell_type": "code",
   "execution_count": null,
   "id": "4cc01650",
   "metadata": {},
   "outputs": [],
   "source": [
    "### La fonction retourne un dictionnaire avec les keys suivantes :\n",
    "for k in resultat_acp.keys():\n",
    "    print(k)"
   ]
  },
  {
   "cell_type": "code",
   "execution_count": null,
   "id": "704e4e2b",
   "metadata": {},
   "outputs": [],
   "source": [
    "### Rappel : un dossier \"apc_graphs\" est créé lors de l'exécution de la fonction regroupant l'ensemble des graphiques générés.\n",
    "### Soit dans l'exemple :\n",
    "\n",
    "keys_path_graphs = []\n",
    "keys_no_graphs = []\n",
    "for k in resultat_acp.keys():\n",
    "    if k == \"nb_groupes_opt\" or k.startswith(\"graph_\") or k.startswith(\"cercle_\"):\n",
    "        keys_path_graphs.append(k)\n",
    "    else:\n",
    "        keys_no_graphs.append(k)\n",
    "\n",
    "print(\"Path des graphiques sauvegardés :\")\n",
    "for k in keys_path_graphs:\n",
    "    print(\" - \"+resultat_acp[k])"
   ]
  },
  {
   "cell_type": "code",
   "execution_count": null,
   "id": "61af188f",
   "metadata": {},
   "outputs": [],
   "source": [
    "### Pour les autres keys du dictionnaire rencvoyé par la fonction, affichons le résultat obtenu\n",
    "\n",
    "for k in keys_no_graphs:\n",
    "    if k != \"select_obs\":\n",
    "        print(k)\n",
    "        print(\"-\" * len(k))\n",
    "        print()\n",
    "        display(resultat_acp[k])\n",
    "        print()\n",
    "        print()"
   ]
  },
  {
   "cell_type": "code",
   "execution_count": null,
   "id": "0c154ffd",
   "metadata": {},
   "outputs": [],
   "source": [
    "### Cas particulier de la clé select_obs\n",
    "### resultat_acp[\"select_obs\"] renvoie, pour chaque observation, un tuple composé de 2 df:\n",
    "###   - df données initiales\n",
    "###   - df données calculées (coordonnées factorielles, cos², contribution aux axes)\n",
    "\n",
    "for obs in df.index:\n",
    "    title = \"Individu \"+obs\n",
    "    all_data_obs = resultat_acp[\"select_obs\"][obs]\n",
    "    \n",
    "    print(\"-\" * len(title))\n",
    "    print(title)\n",
    "    print(\"-\" * len(title))\n",
    "    print()\n",
    "    print(\"Data initiales\")\n",
    "    display(all_data_obs[0])\n",
    "    print(\"Data calculées\")\n",
    "    display(all_data_obs[1])\n",
    "    print()\n",
    "    print()"
   ]
  },
  {
   "cell_type": "code",
   "execution_count": null,
   "id": "a7a864c0",
   "metadata": {},
   "outputs": [],
   "source": []
  },
  {
   "cell_type": "code",
   "execution_count": null,
   "id": "a89a470d",
   "metadata": {},
   "outputs": [],
   "source": []
  },
  {
   "cell_type": "code",
   "execution_count": null,
   "id": "670cebe7",
   "metadata": {},
   "outputs": [],
   "source": []
  },
  {
   "cell_type": "code",
   "execution_count": null,
   "id": "d5f0c4f8",
   "metadata": {},
   "outputs": [],
   "source": []
  },
  {
   "cell_type": "code",
   "execution_count": null,
   "id": "5d3297df",
   "metadata": {},
   "outputs": [],
   "source": []
  },
  {
   "cell_type": "code",
   "execution_count": null,
   "id": "c8c7c99a",
   "metadata": {},
   "outputs": [],
   "source": []
  },
  {
   "cell_type": "code",
   "execution_count": null,
   "id": "8aba8910",
   "metadata": {},
   "outputs": [],
   "source": []
  },
  {
   "cell_type": "code",
   "execution_count": null,
   "id": "b73a7584",
   "metadata": {},
   "outputs": [],
   "source": []
  },
  {
   "cell_type": "code",
   "execution_count": null,
   "id": "ef37a8a5",
   "metadata": {},
   "outputs": [],
   "source": []
  },
  {
   "cell_type": "code",
   "execution_count": null,
   "id": "37a492e4",
   "metadata": {},
   "outputs": [],
   "source": []
  },
  {
   "cell_type": "code",
   "execution_count": null,
   "id": "5be18311",
   "metadata": {},
   "outputs": [],
   "source": []
  },
  {
   "cell_type": "code",
   "execution_count": null,
   "id": "8e2b2aba",
   "metadata": {},
   "outputs": [],
   "source": []
  },
  {
   "cell_type": "code",
   "execution_count": null,
   "id": "f3e2b006",
   "metadata": {},
   "outputs": [],
   "source": []
  },
  {
   "cell_type": "code",
   "execution_count": null,
   "id": "18d87b7d",
   "metadata": {},
   "outputs": [],
   "source": []
  },
  {
   "cell_type": "code",
   "execution_count": null,
   "id": "17ead87f",
   "metadata": {},
   "outputs": [],
   "source": []
  },
  {
   "cell_type": "code",
   "execution_count": null,
   "id": "18e8ff64",
   "metadata": {},
   "outputs": [],
   "source": []
  },
  {
   "cell_type": "code",
   "execution_count": null,
   "id": "57722792",
   "metadata": {},
   "outputs": [],
   "source": []
  },
  {
   "cell_type": "code",
   "execution_count": null,
   "id": "17b69562",
   "metadata": {},
   "outputs": [],
   "source": []
  },
  {
   "cell_type": "code",
   "execution_count": null,
   "id": "3beb653e",
   "metadata": {},
   "outputs": [],
   "source": []
  },
  {
   "cell_type": "code",
   "execution_count": null,
   "id": "0ed2b6ad",
   "metadata": {},
   "outputs": [],
   "source": []
  },
  {
   "cell_type": "code",
   "execution_count": null,
   "id": "a88b4926",
   "metadata": {},
   "outputs": [],
   "source": []
  },
  {
   "cell_type": "code",
   "execution_count": null,
   "id": "f3d435ca",
   "metadata": {},
   "outputs": [],
   "source": []
  },
  {
   "cell_type": "code",
   "execution_count": null,
   "id": "018b0f6b",
   "metadata": {},
   "outputs": [],
   "source": []
  }
 ],
 "metadata": {
  "hide_input": false,
  "kernelspec": {
   "display_name": "Python 3 (ipykernel)",
   "language": "python",
   "name": "python3"
  },
  "language_info": {
   "codemirror_mode": {
    "name": "ipython",
    "version": 3
   },
   "file_extension": ".py",
   "mimetype": "text/x-python",
   "name": "python",
   "nbconvert_exporter": "python",
   "pygments_lexer": "ipython3",
   "version": "3.9.15"
  },
  "toc": {
   "base_numbering": 1,
   "nav_menu": {},
   "number_sections": false,
   "sideBar": true,
   "skip_h1_title": false,
   "title_cell": "Table des matières",
   "title_sidebar": "Contenus",
   "toc_cell": true,
   "toc_position": {},
   "toc_section_display": true,
   "toc_window_display": false
  },
  "varInspector": {
   "cols": {
    "lenName": 16,
    "lenType": 16,
    "lenVar": 40
   },
   "kernels_config": {
    "python": {
     "delete_cmd_postfix": "",
     "delete_cmd_prefix": "del ",
     "library": "var_list.py",
     "varRefreshCmd": "print(var_dic_list())"
    },
    "r": {
     "delete_cmd_postfix": ") ",
     "delete_cmd_prefix": "rm(",
     "library": "var_list.r",
     "varRefreshCmd": "cat(var_dic_list()) "
    }
   },
   "types_to_exclude": [
    "module",
    "function",
    "builtin_function_or_method",
    "instance",
    "_Feature"
   ],
   "window_display": false
  }
 },
 "nbformat": 4,
 "nbformat_minor": 5
}
